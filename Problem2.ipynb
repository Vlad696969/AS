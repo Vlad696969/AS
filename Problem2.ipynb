{
 "cells": [
  {
   "cell_type": "markdown",
   "id": "19b843ad",
   "metadata": {},
   "source": [
    "# Problem 2"
   ]
  },
  {
   "cell_type": "markdown",
   "id": "4e4c41b7",
   "metadata": {},
   "source": [
    "## 2.1"
   ]
  },
  {
   "cell_type": "code",
   "execution_count": 1,
   "id": "fa2c9a98",
   "metadata": {},
   "outputs": [],
   "source": [
    "cases <- read.csv(\"owid-covid-data.csv\")"
   ]
  },
  {
   "cell_type": "code",
   "execution_count": 2,
   "id": "d4b70b61",
   "metadata": {},
   "outputs": [
    {
     "data": {
      "text/html": [
       "<table>\n",
       "<thead><tr><th scope=col>iso_code</th><th scope=col>continent</th><th scope=col>location</th><th scope=col>date</th><th scope=col>total_cases</th><th scope=col>new_cases</th><th scope=col>new_cases_smoothed</th><th scope=col>total_deaths</th><th scope=col>new_deaths</th><th scope=col>new_deaths_smoothed</th><th scope=col>...</th><th scope=col>male_smokers</th><th scope=col>handwashing_facilities</th><th scope=col>hospital_beds_per_thousand</th><th scope=col>life_expectancy</th><th scope=col>human_development_index</th><th scope=col>population</th><th scope=col>excess_mortality_cumulative_absolute</th><th scope=col>excess_mortality_cumulative</th><th scope=col>excess_mortality</th><th scope=col>excess_mortality_cumulative_per_million</th></tr></thead>\n",
       "<tbody>\n",
       "\t<tr><td>AFG        </td><td>Asia       </td><td>Afghanistan</td><td>2020-02-24 </td><td>5          </td><td>5          </td><td>   NA      </td><td>NA         </td><td>NA         </td><td>NA         </td><td>...        </td><td>NA         </td><td>37.746     </td><td>0.5        </td><td>64.83      </td><td>0.511      </td><td>41128772   </td><td>NA         </td><td>NA         </td><td>NA         </td><td>NA         </td></tr>\n",
       "\t<tr><td>AFG        </td><td>Asia       </td><td>Afghanistan</td><td>2020-02-25 </td><td>5          </td><td>0          </td><td>   NA      </td><td>NA         </td><td>NA         </td><td>NA         </td><td>...        </td><td>NA         </td><td>37.746     </td><td>0.5        </td><td>64.83      </td><td>0.511      </td><td>41128772   </td><td>NA         </td><td>NA         </td><td>NA         </td><td>NA         </td></tr>\n",
       "\t<tr><td>AFG        </td><td>Asia       </td><td>Afghanistan</td><td>2020-02-26 </td><td>5          </td><td>0          </td><td>   NA      </td><td>NA         </td><td>NA         </td><td>NA         </td><td>...        </td><td>NA         </td><td>37.746     </td><td>0.5        </td><td>64.83      </td><td>0.511      </td><td>41128772   </td><td>NA         </td><td>NA         </td><td>NA         </td><td>NA         </td></tr>\n",
       "\t<tr><td>AFG        </td><td>Asia       </td><td>Afghanistan</td><td>2020-02-27 </td><td>5          </td><td>0          </td><td>   NA      </td><td>NA         </td><td>NA         </td><td>NA         </td><td>...        </td><td>NA         </td><td>37.746     </td><td>0.5        </td><td>64.83      </td><td>0.511      </td><td>41128772   </td><td>NA         </td><td>NA         </td><td>NA         </td><td>NA         </td></tr>\n",
       "\t<tr><td>AFG        </td><td>Asia       </td><td>Afghanistan</td><td>2020-02-28 </td><td>5          </td><td>0          </td><td>   NA      </td><td>NA         </td><td>NA         </td><td>NA         </td><td>...        </td><td>NA         </td><td>37.746     </td><td>0.5        </td><td>64.83      </td><td>0.511      </td><td>41128772   </td><td>NA         </td><td>NA         </td><td>NA         </td><td>NA         </td></tr>\n",
       "\t<tr><td>AFG        </td><td>Asia       </td><td>Afghanistan</td><td>2020-02-29 </td><td>5          </td><td>0          </td><td>0.714      </td><td>NA         </td><td>NA         </td><td>NA         </td><td>...        </td><td>NA         </td><td>37.746     </td><td>0.5        </td><td>64.83      </td><td>0.511      </td><td>41128772   </td><td>NA         </td><td>NA         </td><td>NA         </td><td>NA         </td></tr>\n",
       "</tbody>\n",
       "</table>\n"
      ],
      "text/latex": [
       "\\begin{tabular}{r|lllllllllllllllllllllllllllllllllllllllllllllllllllllllllllllllllll}\n",
       " iso\\_code & continent & location & date & total\\_cases & new\\_cases & new\\_cases\\_smoothed & total\\_deaths & new\\_deaths & new\\_deaths\\_smoothed & ... & male\\_smokers & handwashing\\_facilities & hospital\\_beds\\_per\\_thousand & life\\_expectancy & human\\_development\\_index & population & excess\\_mortality\\_cumulative\\_absolute & excess\\_mortality\\_cumulative & excess\\_mortality & excess\\_mortality\\_cumulative\\_per\\_million\\\\\n",
       "\\hline\n",
       "\t AFG         & Asia        & Afghanistan & 2020-02-24  & 5           & 5           &    NA       & NA          & NA          & NA          & ...         & NA          & 37.746      & 0.5         & 64.83       & 0.511       & 41128772    & NA          & NA          & NA          & NA         \\\\\n",
       "\t AFG         & Asia        & Afghanistan & 2020-02-25  & 5           & 0           &    NA       & NA          & NA          & NA          & ...         & NA          & 37.746      & 0.5         & 64.83       & 0.511       & 41128772    & NA          & NA          & NA          & NA         \\\\\n",
       "\t AFG         & Asia        & Afghanistan & 2020-02-26  & 5           & 0           &    NA       & NA          & NA          & NA          & ...         & NA          & 37.746      & 0.5         & 64.83       & 0.511       & 41128772    & NA          & NA          & NA          & NA         \\\\\n",
       "\t AFG         & Asia        & Afghanistan & 2020-02-27  & 5           & 0           &    NA       & NA          & NA          & NA          & ...         & NA          & 37.746      & 0.5         & 64.83       & 0.511       & 41128772    & NA          & NA          & NA          & NA         \\\\\n",
       "\t AFG         & Asia        & Afghanistan & 2020-02-28  & 5           & 0           &    NA       & NA          & NA          & NA          & ...         & NA          & 37.746      & 0.5         & 64.83       & 0.511       & 41128772    & NA          & NA          & NA          & NA         \\\\\n",
       "\t AFG         & Asia        & Afghanistan & 2020-02-29  & 5           & 0           & 0.714       & NA          & NA          & NA          & ...         & NA          & 37.746      & 0.5         & 64.83       & 0.511       & 41128772    & NA          & NA          & NA          & NA         \\\\\n",
       "\\end{tabular}\n"
      ],
      "text/markdown": [
       "\n",
       "| iso_code | continent | location | date | total_cases | new_cases | new_cases_smoothed | total_deaths | new_deaths | new_deaths_smoothed | ... | male_smokers | handwashing_facilities | hospital_beds_per_thousand | life_expectancy | human_development_index | population | excess_mortality_cumulative_absolute | excess_mortality_cumulative | excess_mortality | excess_mortality_cumulative_per_million |\n",
       "|---|---|---|---|---|---|---|---|---|---|---|---|---|---|---|---|---|---|---|---|---|\n",
       "| AFG         | Asia        | Afghanistan | 2020-02-24  | 5           | 5           |    NA       | NA          | NA          | NA          | ...         | NA          | 37.746      | 0.5         | 64.83       | 0.511       | 41128772    | NA          | NA          | NA          | NA          |\n",
       "| AFG         | Asia        | Afghanistan | 2020-02-25  | 5           | 0           |    NA       | NA          | NA          | NA          | ...         | NA          | 37.746      | 0.5         | 64.83       | 0.511       | 41128772    | NA          | NA          | NA          | NA          |\n",
       "| AFG         | Asia        | Afghanistan | 2020-02-26  | 5           | 0           |    NA       | NA          | NA          | NA          | ...         | NA          | 37.746      | 0.5         | 64.83       | 0.511       | 41128772    | NA          | NA          | NA          | NA          |\n",
       "| AFG         | Asia        | Afghanistan | 2020-02-27  | 5           | 0           |    NA       | NA          | NA          | NA          | ...         | NA          | 37.746      | 0.5         | 64.83       | 0.511       | 41128772    | NA          | NA          | NA          | NA          |\n",
       "| AFG         | Asia        | Afghanistan | 2020-02-28  | 5           | 0           |    NA       | NA          | NA          | NA          | ...         | NA          | 37.746      | 0.5         | 64.83       | 0.511       | 41128772    | NA          | NA          | NA          | NA          |\n",
       "| AFG         | Asia        | Afghanistan | 2020-02-29  | 5           | 0           | 0.714       | NA          | NA          | NA          | ...         | NA          | 37.746      | 0.5         | 64.83       | 0.511       | 41128772    | NA          | NA          | NA          | NA          |\n",
       "\n"
      ],
      "text/plain": [
       "  iso_code continent location    date       total_cases new_cases\n",
       "1 AFG      Asia      Afghanistan 2020-02-24 5           5        \n",
       "2 AFG      Asia      Afghanistan 2020-02-25 5           0        \n",
       "3 AFG      Asia      Afghanistan 2020-02-26 5           0        \n",
       "4 AFG      Asia      Afghanistan 2020-02-27 5           0        \n",
       "5 AFG      Asia      Afghanistan 2020-02-28 5           0        \n",
       "6 AFG      Asia      Afghanistan 2020-02-29 5           0        \n",
       "  new_cases_smoothed total_deaths new_deaths new_deaths_smoothed ...\n",
       "1    NA              NA           NA         NA                  ...\n",
       "2    NA              NA           NA         NA                  ...\n",
       "3    NA              NA           NA         NA                  ...\n",
       "4    NA              NA           NA         NA                  ...\n",
       "5    NA              NA           NA         NA                  ...\n",
       "6 0.714              NA           NA         NA                  ...\n",
       "  male_smokers handwashing_facilities hospital_beds_per_thousand\n",
       "1 NA           37.746                 0.5                       \n",
       "2 NA           37.746                 0.5                       \n",
       "3 NA           37.746                 0.5                       \n",
       "4 NA           37.746                 0.5                       \n",
       "5 NA           37.746                 0.5                       \n",
       "6 NA           37.746                 0.5                       \n",
       "  life_expectancy human_development_index population\n",
       "1 64.83           0.511                   41128772  \n",
       "2 64.83           0.511                   41128772  \n",
       "3 64.83           0.511                   41128772  \n",
       "4 64.83           0.511                   41128772  \n",
       "5 64.83           0.511                   41128772  \n",
       "6 64.83           0.511                   41128772  \n",
       "  excess_mortality_cumulative_absolute excess_mortality_cumulative\n",
       "1 NA                                   NA                         \n",
       "2 NA                                   NA                         \n",
       "3 NA                                   NA                         \n",
       "4 NA                                   NA                         \n",
       "5 NA                                   NA                         \n",
       "6 NA                                   NA                         \n",
       "  excess_mortality excess_mortality_cumulative_per_million\n",
       "1 NA               NA                                     \n",
       "2 NA               NA                                     \n",
       "3 NA               NA                                     \n",
       "4 NA               NA                                     \n",
       "5 NA               NA                                     \n",
       "6 NA               NA                                     "
      ]
     },
     "metadata": {},
     "output_type": "display_data"
    }
   ],
   "source": [
    "head(cases)"
   ]
  },
  {
   "cell_type": "code",
   "execution_count": 3,
   "id": "81ef9664",
   "metadata": {},
   "outputs": [],
   "source": [
    "japan <- cases[cases$iso_code=='JPN',]"
   ]
  },
  {
   "cell_type": "code",
   "execution_count": 4,
   "id": "c3bb07fa",
   "metadata": {},
   "outputs": [
    {
     "data": {
      "text/html": [
       "<ol class=list-inline>\n",
       "\t<li>&lt;NA&gt;</li>\n",
       "\t<li>0</li>\n",
       "\t<li>0</li>\n",
       "\t<li>0</li>\n",
       "\t<li>2</li>\n",
       "\t<li>0</li>\n",
       "</ol>\n"
      ],
      "text/latex": [
       "\\begin{enumerate*}\n",
       "\\item <NA>\n",
       "\\item 0\n",
       "\\item 0\n",
       "\\item 0\n",
       "\\item 2\n",
       "\\item 0\n",
       "\\end{enumerate*}\n"
      ],
      "text/markdown": [
       "1. &lt;NA&gt;\n",
       "2. 0\n",
       "3. 0\n",
       "4. 0\n",
       "5. 2\n",
       "6. 0\n",
       "\n",
       "\n"
      ],
      "text/plain": [
       "[1] NA  0  0  0  2  0"
      ]
     },
     "metadata": {},
     "output_type": "display_data"
    }
   ],
   "source": [
    "cases <- japan$new_cases\n",
    "head(cases)"
   ]
  },
  {
   "cell_type": "code",
   "execution_count": 5,
   "id": "9ad3b7fb",
   "metadata": {},
   "outputs": [],
   "source": [
    "# Remove the first element because it is NA\n",
    "cases <- cases[2:length(cases)]"
   ]
  },
  {
   "cell_type": "markdown",
   "id": "3899519d",
   "metadata": {},
   "source": [
    "## 2.2\n",
    "Plot the time series and the logarithm of the time series"
   ]
  },
  {
   "cell_type": "code",
   "execution_count": 6,
   "id": "388bfd3b",
   "metadata": {},
   "outputs": [
    {
     "data": {
      "image/png": "[encoded data removed]",
      "text/plain": [
       "Plot with title \"\""
      ]
     },
     "metadata": {},
     "output_type": "display_data"
    }
   ],
   "source": [
    "plot(x=c(1:length(cases)), y=cases, type = \"l\", main = \"\", xlab=\"\", ylab=\"\", col.axis=\"blue\")\n",
    "\n",
    "title(\n",
    "      xlab = \"days\", ylab = \"new covid-19 cases\",\n",
    "      cex.main = 2,   font.main= 4, col.main= \"red\",\n",
    "      cex.sub = 0.75, font.sub = 3, col.sub = \"green\",\n",
    "      col.lab =\"darkblue\"\n",
    "      )"
   ]
  },
  {
   "cell_type": "code",
   "execution_count": 13,
   "id": "106929d2",
   "metadata": {},
   "outputs": [],
   "source": [
    "log.cases <- cases\n",
    "# Replace all 0 with 1 to be able to apply the log function\n",
    "log.cases[cases==0] <- 1"
   ]
  },
  {
   "cell_type": "code",
   "execution_count": 14,
   "id": "4b4ead19",
   "metadata": {},
   "outputs": [],
   "source": [
    "log.cases <- log(log.cases)"
   ]
  },
  {
   "cell_type": "code",
   "execution_count": 15,
   "id": "f9ed2887",
   "metadata": {},
   "outputs": [
    {
     "data": {
      "image/png": "[encoded data removed]",
      "text/plain": [
       "Plot with title \"\""
      ]
     },
     "metadata": {},
     "output_type": "display_data"
    }
   ],
   "source": [
    "plot(x=c(1:length(cases)), y=log.cases, type = \"l\", main = \"\", xlab=\"\", ylab=\"\", col.axis=\"blue\")\n",
    "\n",
    "title(\n",
    "      xlab = \"days\", ylab = \"log of new covid-19 cases\",\n",
    "      cex.main = 2,   font.main= 1, col.main= \"red\",\n",
    "      cex.sub = 0.75, font.sub = 3, col.sub = \"green\",\n",
    "      col.lab =\"darkblue\"\n",
    "      )"
   ]
  },
  {
   "cell_type": "markdown",
   "id": "267942eb",
   "metadata": {},
   "source": [
    "Construct the AR process model"
   ]
  },
  {
   "cell_type": "code",
   "execution_count": 16,
   "id": "beb428b6",
   "metadata": {},
   "outputs": [],
   "source": [
    "cases.ts <- ts(cases)"
   ]
  },
  {
   "cell_type": "code",
   "execution_count": 17,
   "id": "d17c327f",
   "metadata": {},
   "outputs": [],
   "source": [
    "log.cases.ts <- ts(log.cases)"
   ]
  },
  {
   "cell_type": "code",
   "execution_count": 19,
   "id": "edfda976",
   "metadata": {},
   "outputs": [
    {
     "data": {
      "text/plain": [
       "\n",
       "Call:\n",
       "ar.yw.default(x = log.cases.ts)\n",
       "\n",
       "Coefficients:\n",
       "      1        2        3        4        5        6        7        8  \n",
       " 0.8808   0.0552  -0.0286   0.1252  -0.1112   0.0972   0.1021  -0.1012  \n",
       "      9       10       11       12       13       14       15       16  \n",
       "-0.0230   0.0743  -0.0838  -0.0344   0.0649   0.2012  -0.2164  -0.0086  \n",
       "     17       18       19       20       21       22       23       24  \n",
       "-0.0107  -0.0547   0.0896  -0.0970   0.1607  -0.1064  -0.0382   0.0079  \n",
       "     25       26       27       28       29  \n",
       " 0.0134   0.0067   0.0321   0.1125  -0.1214  \n",
       "\n",
       "Order selected 29  sigma^2 estimated as  0.1394"
      ]
     },
     "metadata": {},
     "output_type": "display_data"
    }
   ],
   "source": [
    "cases.ar <- ar.yw(log.cases.ts)\n",
    "cases.ar"
   ]
  },
  {
   "cell_type": "code",
   "execution_count": 20,
   "id": "6bd14a92",
   "metadata": {},
   "outputs": [
    {
     "data": {
      "text/html": [
       "30"
      ],
      "text/latex": [
       "30"
      ],
      "text/markdown": [
       "30"
      ],
      "text/plain": [
       "[1] 30"
      ]
     },
     "metadata": {},
     "output_type": "display_data"
    }
   ],
   "source": [
    "cases.ar$order.max"
   ]
  },
  {
   "cell_type": "code",
   "execution_count": 21,
   "id": "d7eb913f",
   "metadata": {},
   "outputs": [
    {
     "data": {
      "image/png": "[encoded data removed]",
      "text/plain": [
       "plot without title"
      ]
     },
     "metadata": {},
     "output_type": "display_data"
    }
   ],
   "source": [
    "ts.plot(cases.ar$aic)"
   ]
  },
  {
   "cell_type": "markdown",
   "id": "ca1fab4a",
   "metadata": {},
   "source": [
    "## 2.3"
   ]
  },
  {
   "cell_type": "code",
   "execution_count": 22,
   "id": "0f197836",
   "metadata": {},
   "outputs": [],
   "source": [
    "bootar1 <- function(x, B)\n",
    "{\n",
    "    nx <- length(x)  # Length of original sample\n",
    "    mu <- mean(x)\n",
    "    x.ar <- ar.yw(x, aic = F, order.max = 1)  # Compute AR(1) model with Yule-Walker method\n",
    "    phi1 <- c(x.ar$ar[1])  # Autoregressive parameter\n",
    "    d <- c(x.ar$resid[2:nx])  # Residuals\n",
    "    \n",
    "    # Matrix of size n x B with sampled residuals for all bootstrap samples\n",
    "    gosa <- matrix(sample(d, size = nx * B, replace = T), nrow = B)\n",
    "    data <- rep(0, nx)  # vector containing all generated data for a bootstrap sample\n",
    "    beta <- rep(0, B)  # Vector containing all bootstrap autoregressive parameters\n",
    "    for(b in 1:B){\n",
    "        data[1] <- x[1]  # First data sample is kept as a constant\n",
    "        for(i in 2:nx){\n",
    "            data[i] <- (1 - phi1) * mu + phi1 * data[i - 1] + gosa[b, i]\n",
    "        }\n",
    "        data.ar <- ar.yw(data, aic = F, order.max = 1)\n",
    "        beta[b] <- c(data.ar$ar[1])\n",
    "    }\n",
    "    return(beta)\n",
    "}"
   ]
  },
  {
   "cell_type": "code",
   "execution_count": 24,
   "id": "81fd94dc",
   "metadata": {},
   "outputs": [],
   "source": [
    "bootar2 <- function(x, B)\n",
    "{\n",
    "    nx <- length(x)  # Length of original sample\n",
    "    mu <- mean(x)\n",
    "    x.ar <- ar.yw(x, aic = F, order.max = 2)  # Compute AR(2) model with Yule-Walker method\n",
    "    phi1 <- c(x.ar$ar[1])  # Autoregressive parameter 1\n",
    "    phi2 <- c(x.ar$ar[2])  # Autoregressive parameter 2\n",
    "    d <- c(x.ar$resid[3:nx])  # Residuals\n",
    "    \n",
    "    # Matrix of size n x B with sampled residuals for all bootstrap samples\n",
    "    gosa <- matrix(sample(d, size = nx * B, replace = T), nrow = B)\n",
    "    data <- rep(0, nx)  # vector containing all generated data for a bootstrap sample\n",
    "    beta <- matrix(0, nrow=B, ncol=2)  # matrix containing all bootstrap autoregressive parameters\n",
    "    for(b in 1:B){\n",
    "        data[1] <- x[1]  # First and second data sample is kept as a constant\n",
    "        data[2] <- x[2]\n",
    "        for(i in 3:nx){\n",
    "            data[i] <- (1 - phi1 - phi2) * mu + phi1 * data[i - 1] + phi2 * data[i - 2] + gosa[b, i]\n",
    "        }\n",
    "        data.ar <- ar.yw(data, aic = F, order.max = 2)\n",
    "        beta[b,1] <- c(data.ar$ar[1])\n",
    "        beta[b,2] <- c(data.ar$ar[2])\n",
    "    }\n",
    "    return(beta)\n",
    "}"
   ]
  },
  {
   "cell_type": "markdown",
   "id": "62a6f46f",
   "metadata": {},
   "source": [
    "## 2.4"
   ]
  },
  {
   "cell_type": "code",
   "execution_count": 25,
   "id": "7635142e",
   "metadata": {},
   "outputs": [],
   "source": [
    "beta1 <- bootar1(log.cases.ts, 200)"
   ]
  },
  {
   "cell_type": "code",
   "execution_count": 26,
   "id": "90f8d1c6",
   "metadata": {},
   "outputs": [
    {
     "data": {
      "image/png": "[encoded data removed]",
      "text/plain": [
       "Plot with title \"Histogram of beta1\""
      ]
     },
     "metadata": {},
     "output_type": "display_data"
    }
   ],
   "source": [
    "hist(beta1)"
   ]
  },
  {
   "cell_type": "code",
   "execution_count": 27,
   "id": "a051c84e",
   "metadata": {},
   "outputs": [
    {
     "data": {
      "text/html": [
       "0.00461973351735029"
      ],
      "text/latex": [
       "0.00461973351735029"
      ],
      "text/markdown": [
       "0.00461973351735029"
      ],
      "text/plain": [
       "[1] 0.004619734"
      ]
     },
     "metadata": {},
     "output_type": "display_data"
    }
   ],
   "source": [
    "sqrt(var(beta1))"
   ]
  },
  {
   "cell_type": "code",
   "execution_count": 35,
   "id": "ce112d6e",
   "metadata": {},
   "outputs": [],
   "source": [
    "library(boot)\n",
    "cases.fun <- function(tsb){\n",
    "    ar.fit <- ar(tsb, aic=F, order.max=1)\n",
    "    ar.fit$ar\n",
    "}\n",
    "cases.mb1 <- tsboot(ts=log.cases.ts, statistic=cases.fun, R=200, l=3, sim=\"fixed\")\n",
    "cases.mb2 <- tsboot(ts=log.cases.ts, statistic=cases.fun, R=200, l=7, sim=\"fixed\")\n",
    "cases.mb3 <- tsboot(ts=log.cases.ts, statistic=cases.fun, R=200, l=15, sim=\"fixed\")"
   ]
  },
  {
   "cell_type": "code",
   "execution_count": 36,
   "id": "4959510a",
   "metadata": {},
   "outputs": [
    {
     "data": {
      "text/plain": [
       "\n",
       "BLOCK BOOTSTRAP FOR TIME SERIES\n",
       "\n",
       "Fixed Block Length of 3 \n",
       "\n",
       "Call:\n",
       "tsboot(tseries = log.cases.ts, statistic = cases.fun, R = 200, \n",
       "    l = 3, sim = \"fixed\")\n",
       "\n",
       "\n",
       "Bootstrap Statistics :\n",
       "     original     bias    std. error\n",
       "t1* 0.9876862 -0.3316123  0.01944812"
      ]
     },
     "metadata": {},
     "output_type": "display_data"
    },
    {
     "data": {
      "text/plain": [
       "\n",
       "BLOCK BOOTSTRAP FOR TIME SERIES\n",
       "\n",
       "Fixed Block Length of 7 \n",
       "\n",
       "Call:\n",
       "tsboot(tseries = log.cases.ts, statistic = cases.fun, R = 200, \n",
       "    l = 7, sim = \"fixed\")\n",
       "\n",
       "\n",
       "Bootstrap Statistics :\n",
       "     original   bias    std. error\n",
       "t1* 0.9876862 -0.14591  0.01399479"
      ]
     },
     "metadata": {},
     "output_type": "display_data"
    },
    {
     "data": {
      "text/plain": [
       "\n",
       "BLOCK BOOTSTRAP FOR TIME SERIES\n",
       "\n",
       "Fixed Block Length of 15 \n",
       "\n",
       "Call:\n",
       "tsboot(tseries = log.cases.ts, statistic = cases.fun, R = 200, \n",
       "    l = 15, sim = \"fixed\")\n",
       "\n",
       "\n",
       "Bootstrap Statistics :\n",
       "     original      bias    std. error\n",
       "t1* 0.9876862 -0.07032058  0.01173487"
      ]
     },
     "metadata": {},
     "output_type": "display_data"
    }
   ],
   "source": [
    "cases.mb1\n",
    "cases.mb2\n",
    "cases.mb3"
   ]
  },
  {
   "cell_type": "code",
   "execution_count": 37,
   "id": "315f4059",
   "metadata": {},
   "outputs": [],
   "source": [
    "beta <- bootar2(log.cases.ts, 200)"
   ]
  },
  {
   "cell_type": "code",
   "execution_count": 38,
   "id": "9ce01742",
   "metadata": {},
   "outputs": [
    {
     "data": {
      "image/png": "[encoded data removed]",
      "text/plain": [
       "Plot with title \"Histogram of beta[1:nrow(beta), 1]\""
      ]
     },
     "metadata": {},
     "output_type": "display_data"
    }
   ],
   "source": [
    "hist(beta[1:nrow(beta),1])"
   ]
  },
  {
   "cell_type": "code",
   "execution_count": 39,
   "id": "81e61519",
   "metadata": {},
   "outputs": [
    {
     "data": {
      "image/png": "[encoded data removed]",
      "text/plain": [
       "Plot with title \"Histogram of beta[1:nrow(beta), 2]\""
      ]
     },
     "metadata": {},
     "output_type": "display_data"
    }
   ],
   "source": [
    "hist(beta[1:nrow(beta),2])"
   ]
  },
  {
   "cell_type": "code",
   "execution_count": 40,
   "id": "8a627d18",
   "metadata": {},
   "outputs": [
    {
     "data": {
      "text/html": [
       "0.0213785266041707"
      ],
      "text/latex": [
       "0.0213785266041707"
      ],
      "text/markdown": [
       "0.0213785266041707"
      ],
      "text/plain": [
       "[1] 0.02137853"
      ]
     },
     "metadata": {},
     "output_type": "display_data"
    },
    {
     "data": {
      "text/html": [
       "0.0207895785780781"
      ],
      "text/latex": [
       "0.0207895785780781"
      ],
      "text/markdown": [
       "0.0207895785780781"
      ],
      "text/plain": [
       "[1] 0.02078958"
      ]
     },
     "metadata": {},
     "output_type": "display_data"
    }
   ],
   "source": [
    "sqrt(var(beta[1:nrow(beta),1]))\n",
    "sqrt(var(beta[1:nrow(beta),2]))"
   ]
  },
  {
   "cell_type": "code",
   "execution_count": 41,
   "id": "db6bdd84",
   "metadata": {},
   "outputs": [],
   "source": [
    "cases.fun <- function(tsb){\n",
    "    ar.fit <- ar(tsb, aic=F, order.max=2)\n",
    "    ar.fit$ar\n",
    "}"
   ]
  },
  {
   "cell_type": "code",
   "execution_count": 42,
   "id": "0a0a91f0",
   "metadata": {},
   "outputs": [],
   "source": [
    "cases.mb1 <- tsboot(ts=log.cases.ts, statistic=cases.fun, R=200, l=3, sim=\"fixed\")\n",
    "cases.mb2 <- tsboot(ts=log.cases.ts, statistic=cases.fun, R=200, l=7, sim=\"fixed\")\n",
    "cases.mb3 <- tsboot(ts=log.cases.ts, statistic=cases.fun, R=200, l=15, sim=\"fixed\")"
   ]
  },
  {
   "cell_type": "code",
   "execution_count": 43,
   "id": "b75b6aa8",
   "metadata": {},
   "outputs": [
    {
     "data": {
      "text/plain": [
       "\n",
       "BLOCK BOOTSTRAP FOR TIME SERIES\n",
       "\n",
       "Fixed Block Length of 3 \n",
       "\n",
       "Call:\n",
       "tsboot(tseries = log.cases.ts, statistic = cases.fun, R = 200, \n",
       "    l = 3, sim = \"fixed\")\n",
       "\n",
       "\n",
       "Bootstrap Statistics :\n",
       "     original     bias    std. error\n",
       "t1* 0.8955771 -0.1187638  0.02058578\n",
       "t2* 0.0932574 -0.2793271  0.01883761"
      ]
     },
     "metadata": {},
     "output_type": "display_data"
    },
    {
     "data": {
      "text/plain": [
       "\n",
       "BLOCK BOOTSTRAP FOR TIME SERIES\n",
       "\n",
       "Fixed Block Length of 7 \n",
       "\n",
       "Call:\n",
       "tsboot(tseries = log.cases.ts, statistic = cases.fun, R = 200, \n",
       "    l = 7, sim = \"fixed\")\n",
       "\n",
       "\n",
       "Bootstrap Statistics :\n",
       "     original       bias    std. error\n",
       "t1* 0.8955771  0.001496598  0.02120756\n",
       "t2* 0.0932574 -0.160244498  0.01975601"
      ]
     },
     "metadata": {},
     "output_type": "display_data"
    },
    {
     "data": {
      "text/plain": [
       "\n",
       "BLOCK BOOTSTRAP FOR TIME SERIES\n",
       "\n",
       "Fixed Block Length of 15 \n",
       "\n",
       "Call:\n",
       "tsboot(tseries = log.cases.ts, statistic = cases.fun, R = 200, \n",
       "    l = 15, sim = \"fixed\")\n",
       "\n",
       "\n",
       "Bootstrap Statistics :\n",
       "     original      bias    std. error\n",
       "t1* 0.8955771  0.03839277  0.02298682\n",
       "t2* 0.0932574 -0.11398938  0.02408434"
      ]
     },
     "metadata": {},
     "output_type": "display_data"
    }
   ],
   "source": [
    "cases.mb1\n",
    "cases.mb2\n",
    "cases.mb3"
   ]
  }
 ],
 "metadata": {
  "kernelspec": {
   "display_name": "R",
   "language": "R",
   "name": "ir"
  },
  "language_info": {
   "codemirror_mode": "r",
   "file_extension": ".r",
   "mimetype": "text/x-r-source",
   "name": "R",
   "pygments_lexer": "r",
   "version": "3.6.1"
  }
 },
 "nbformat": 4,
 "nbformat_minor": 5
}
